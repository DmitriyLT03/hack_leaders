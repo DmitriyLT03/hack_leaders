{
 "cells": [
  {
   "cell_type": "code",
   "execution_count": 1,
   "metadata": {},
   "outputs": [],
   "source": [
    "import pandas as pd"
   ]
  },
  {
   "cell_type": "code",
   "execution_count": 2,
   "metadata": {},
   "outputs": [
    {
     "name": "stderr",
     "output_type": "stream",
     "text": [
      "C:\\Users\\Dmitry\\AppData\\Local\\Temp\\ipykernel_9628\\675749405.py:1: DtypeWarning: Columns (3) have mixed types. Specify dtype option on import or set low_memory=False.\n",
      "  df_2019 = pd.read_csv('./DATTSVT_2019.csv', sep='\\t')\n",
      "C:\\Users\\Dmitry\\AppData\\Local\\Temp\\ipykernel_9628\\675749405.py:2: DtypeWarning: Columns (3) have mixed types. Specify dtype option on import or set low_memory=False.\n",
      "  df_2020 = pd.read_csv('./DATTSVT_2020.csv', sep='\\t')\n",
      "C:\\Users\\Dmitry\\AppData\\Local\\Temp\\ipykernel_9628\\675749405.py:3: DtypeWarning: Columns (3) have mixed types. Specify dtype option on import or set low_memory=False.\n",
      "  df_2021 = pd.read_csv('./DATTSVT_2021.csv', sep='\\t')\n",
      "C:\\Users\\Dmitry\\AppData\\Local\\Temp\\ipykernel_9628\\675749405.py:4: DtypeWarning: Columns (3,7) have mixed types. Specify dtype option on import or set low_memory=False.\n",
      "  df_2022 = pd.read_csv('./DATTSVT_2022.csv', sep='\\t')\n"
     ]
    }
   ],
   "source": [
    "df_2019 = pd.read_csv('./DATTSVT_2019.csv', sep='\\t')\n",
    "df_2020 = pd.read_csv('./DATTSVT_2020.csv', sep='\\t')\n",
    "df_2021 = pd.read_csv('./DATTSVT_2021.csv', sep='\\t')\n",
    "df_2022 = pd.read_csv('./DATTSVT_2022.csv', sep='\\t')"
   ]
  },
  {
   "cell_type": "code",
   "execution_count": 4,
   "metadata": {},
   "outputs": [],
   "source": [
    "dataset = pd.concat([df_2019, df_2020, df_2021, df_2022], ignore_index=True)"
   ]
  },
  {
   "cell_type": "code",
   "execution_count": 5,
   "metadata": {},
   "outputs": [],
   "source": [
    "dataset.to_csv('full_dataset.csv', sep='\\t')"
   ]
  },
  {
   "cell_type": "code",
   "execution_count": 1,
   "metadata": {},
   "outputs": [],
   "source": [
    "import pandas as pd"
   ]
  },
  {
   "cell_type": "code",
   "execution_count": 2,
   "metadata": {},
   "outputs": [
    {
     "name": "stderr",
     "output_type": "stream",
     "text": [
      "C:\\Users\\Dmitry\\AppData\\Local\\Temp\\ipykernel_12492\\779234853.py:1: DtypeWarning: Columns (4,8) have mixed types. Specify dtype option on import or set low_memory=False.\n",
      "  df = pd.read_csv('./full_dataset.csv', sep='\\t')\n"
     ]
    }
   ],
   "source": [
    "df = pd.read_csv('./full_dataset.csv', sep='\\t')"
   ]
  },
  {
   "cell_type": "code",
   "execution_count": 14,
   "metadata": {},
   "outputs": [
    {
     "data": {
      "text/plain": [
       "0"
      ]
     },
     "execution_count": 14,
     "metadata": {},
     "output_type": "execute_result"
    }
   ],
   "source": [
    "df.Kol.isnull().sum()\n"
   ]
  },
  {
   "cell_type": "code",
   "execution_count": 13,
   "metadata": {},
   "outputs": [
    {
     "data": {
      "text/html": [
       "<div>\n",
       "<style scoped>\n",
       "    .dataframe tbody tr th:only-of-type {\n",
       "        vertical-align: middle;\n",
       "    }\n",
       "\n",
       "    .dataframe tbody tr th {\n",
       "        vertical-align: top;\n",
       "    }\n",
       "\n",
       "    .dataframe thead th {\n",
       "        text-align: right;\n",
       "    }\n",
       "</style>\n",
       "<table border=\"1\" class=\"dataframe\">\n",
       "  <thead>\n",
       "    <tr style=\"text-align: right;\">\n",
       "      <th></th>\n",
       "      <th>Unnamed: 0</th>\n",
       "      <th>napr</th>\n",
       "      <th>period</th>\n",
       "      <th>nastranapr</th>\n",
       "      <th>tnved</th>\n",
       "      <th>edizm</th>\n",
       "      <th>Stoim</th>\n",
       "      <th>Netto</th>\n",
       "      <th>Kol</th>\n",
       "      <th>Region</th>\n",
       "      <th>Region_s</th>\n",
       "    </tr>\n",
       "  </thead>\n",
       "  <tbody>\n",
       "    <tr>\n",
       "      <th>0</th>\n",
       "      <td>0</td>\n",
       "      <td>ИМ</td>\n",
       "      <td>04/2019</td>\n",
       "      <td>CH</td>\n",
       "      <td>1904</td>\n",
       "      <td>NaN</td>\n",
       "      <td>481,24</td>\n",
       "      <td>80,64</td>\n",
       "      <td>0</td>\n",
       "      <td>41000 - ЛЕНИНГРАДСКАЯ ОБЛАСТЬ</td>\n",
       "      <td>02-СЕВЕРО-ЗАПАДНЫЙ ФЕДЕРАЛЬНЫЙ ОКРУГ</td>\n",
       "    </tr>\n",
       "    <tr>\n",
       "      <th>1</th>\n",
       "      <td>1</td>\n",
       "      <td>ЭК</td>\n",
       "      <td>11/2019</td>\n",
       "      <td>CA</td>\n",
       "      <td>1904</td>\n",
       "      <td>NaN</td>\n",
       "      <td>141,6</td>\n",
       "      <td>48,15</td>\n",
       "      <td>0</td>\n",
       "      <td>45000 - ГОРОД МОСКВА СТОЛИЦА РОССИЙСКОЙ ФЕДЕРА...</td>\n",
       "      <td>01-ЦЕНТРАЛЬНЫЙ ФЕДЕРАЛЬНЫЙ ОКРУГ</td>\n",
       "    </tr>\n",
       "    <tr>\n",
       "      <th>2</th>\n",
       "      <td>2</td>\n",
       "      <td>ИМ</td>\n",
       "      <td>12/2019</td>\n",
       "      <td>DE</td>\n",
       "      <td>8481</td>\n",
       "      <td>NaN</td>\n",
       "      <td>95803,6</td>\n",
       "      <td>1532,572</td>\n",
       "      <td>0</td>\n",
       "      <td>65000 - СВЕРДЛОВСКАЯ ОБЛАСТЬ</td>\n",
       "      <td>05-УРАЛЬСКИЙ ФЕДЕРАЛЬНЫЙ ОКРУГ</td>\n",
       "    </tr>\n",
       "    <tr>\n",
       "      <th>3</th>\n",
       "      <td>3</td>\n",
       "      <td>ИМ</td>\n",
       "      <td>12/2019</td>\n",
       "      <td>DE</td>\n",
       "      <td>8481</td>\n",
       "      <td>NaN</td>\n",
       "      <td>22314,83</td>\n",
       "      <td>174,902</td>\n",
       "      <td>0</td>\n",
       "      <td>54000 - ОРЛОВСКАЯ ОБЛАСТЬ</td>\n",
       "      <td>01-ЦЕНТРАЛЬНЫЙ ФЕДЕРАЛЬНЫЙ ОКРУГ</td>\n",
       "    </tr>\n",
       "    <tr>\n",
       "      <th>4</th>\n",
       "      <td>4</td>\n",
       "      <td>ИМ</td>\n",
       "      <td>12/2019</td>\n",
       "      <td>DE</td>\n",
       "      <td>8481</td>\n",
       "      <td>NaN</td>\n",
       "      <td>10386</td>\n",
       "      <td>166,68</td>\n",
       "      <td>0</td>\n",
       "      <td>50000 - НОВОСИБИРСКАЯ ОБЛАСТЬ</td>\n",
       "      <td>06-СИБИРСКИЙ ФЕДЕРАЛЬНЫЙ ОКРУГ</td>\n",
       "    </tr>\n",
       "    <tr>\n",
       "      <th>...</th>\n",
       "      <td>...</td>\n",
       "      <td>...</td>\n",
       "      <td>...</td>\n",
       "      <td>...</td>\n",
       "      <td>...</td>\n",
       "      <td>...</td>\n",
       "      <td>...</td>\n",
       "      <td>...</td>\n",
       "      <td>...</td>\n",
       "      <td>...</td>\n",
       "      <td>...</td>\n",
       "    </tr>\n",
       "    <tr>\n",
       "      <th>6707331</th>\n",
       "      <td>6707331</td>\n",
       "      <td>ИМ</td>\n",
       "      <td>01/2022</td>\n",
       "      <td>CZ</td>\n",
       "      <td>7321</td>\n",
       "      <td>NaN</td>\n",
       "      <td>91006,62</td>\n",
       "      <td>18381,844</td>\n",
       "      <td>0</td>\n",
       "      <td>28000 - ТВЕРСКАЯ ОБЛАСТЬ</td>\n",
       "      <td>01-ЦЕНТРАЛЬНЫЙ ФЕДЕРАЛЬНЫЙ ОКРУГ</td>\n",
       "    </tr>\n",
       "    <tr>\n",
       "      <th>6707332</th>\n",
       "      <td>6707332</td>\n",
       "      <td>ИМ</td>\n",
       "      <td>01/2022</td>\n",
       "      <td>CN</td>\n",
       "      <td>7321</td>\n",
       "      <td>NaN</td>\n",
       "      <td>6425,41</td>\n",
       "      <td>1496,8</td>\n",
       "      <td>0</td>\n",
       "      <td>81000 - РЕСПУБЛИКА БУРЯТИЯ</td>\n",
       "      <td>07-ДАЛЬНЕВОСТОЧНЫЙ ФЕДЕРАЛЬНЫЙ ОКРУГ</td>\n",
       "    </tr>\n",
       "    <tr>\n",
       "      <th>6707333</th>\n",
       "      <td>6707333</td>\n",
       "      <td>ИМ</td>\n",
       "      <td>01/2022</td>\n",
       "      <td>CN</td>\n",
       "      <td>7321</td>\n",
       "      <td>NaN</td>\n",
       "      <td>304242,13</td>\n",
       "      <td>47602,548</td>\n",
       "      <td>0</td>\n",
       "      <td>65000 - СВЕРДЛОВСКАЯ ОБЛАСТЬ</td>\n",
       "      <td>05-УРАЛЬСКИЙ ФЕДЕРАЛЬНЫЙ ОКРУГ</td>\n",
       "    </tr>\n",
       "    <tr>\n",
       "      <th>6707334</th>\n",
       "      <td>6707334</td>\n",
       "      <td>ИМ</td>\n",
       "      <td>01/2022</td>\n",
       "      <td>CN</td>\n",
       "      <td>7321</td>\n",
       "      <td>NaN</td>\n",
       "      <td>91971,17</td>\n",
       "      <td>15744,9</td>\n",
       "      <td>0</td>\n",
       "      <td>60000 - РОСТОВСКАЯ ОБЛАСТЬ</td>\n",
       "      <td>03-ЮЖНЫЙ ФЕДЕРАЛЬНЫЙ ОКРУГ</td>\n",
       "    </tr>\n",
       "    <tr>\n",
       "      <th>6707335</th>\n",
       "      <td>6707335</td>\n",
       "      <td>ИМ</td>\n",
       "      <td>01/2022</td>\n",
       "      <td>CN</td>\n",
       "      <td>7321</td>\n",
       "      <td>NaN</td>\n",
       "      <td>7667,45</td>\n",
       "      <td>1333,7</td>\n",
       "      <td>0</td>\n",
       "      <td>56000 - ПЕНЗЕНСКАЯ ОБЛАСТЬ</td>\n",
       "      <td>04-ПРИВОЛЖСКИЙ ФЕДЕРАЛЬНЫЙ ОКРУГ</td>\n",
       "    </tr>\n",
       "  </tbody>\n",
       "</table>\n",
       "<p>6707336 rows × 11 columns</p>\n",
       "</div>"
      ],
      "text/plain": [
       "         Unnamed: 0 napr   period nastranapr tnved  edizm      Stoim  \\\n",
       "0                 0   ИМ  04/2019         CH  1904    NaN     481,24   \n",
       "1                 1   ЭК  11/2019         CA  1904    NaN      141,6   \n",
       "2                 2   ИМ  12/2019         DE  8481    NaN    95803,6   \n",
       "3                 3   ИМ  12/2019         DE  8481    NaN   22314,83   \n",
       "4                 4   ИМ  12/2019         DE  8481    NaN      10386   \n",
       "...             ...  ...      ...        ...   ...    ...        ...   \n",
       "6707331     6707331   ИМ  01/2022         CZ  7321    NaN   91006,62   \n",
       "6707332     6707332   ИМ  01/2022         CN  7321    NaN    6425,41   \n",
       "6707333     6707333   ИМ  01/2022         CN  7321    NaN  304242,13   \n",
       "6707334     6707334   ИМ  01/2022         CN  7321    NaN   91971,17   \n",
       "6707335     6707335   ИМ  01/2022         CN  7321    NaN    7667,45   \n",
       "\n",
       "             Netto Kol                                             Region  \\\n",
       "0            80,64   0                      41000 - ЛЕНИНГРАДСКАЯ ОБЛАСТЬ   \n",
       "1            48,15   0  45000 - ГОРОД МОСКВА СТОЛИЦА РОССИЙСКОЙ ФЕДЕРА...   \n",
       "2         1532,572   0                       65000 - СВЕРДЛОВСКАЯ ОБЛАСТЬ   \n",
       "3          174,902   0                          54000 - ОРЛОВСКАЯ ОБЛАСТЬ   \n",
       "4           166,68   0                      50000 - НОВОСИБИРСКАЯ ОБЛАСТЬ   \n",
       "...            ...  ..                                                ...   \n",
       "6707331  18381,844   0                           28000 - ТВЕРСКАЯ ОБЛАСТЬ   \n",
       "6707332     1496,8   0                         81000 - РЕСПУБЛИКА БУРЯТИЯ   \n",
       "6707333  47602,548   0                       65000 - СВЕРДЛОВСКАЯ ОБЛАСТЬ   \n",
       "6707334    15744,9   0                         60000 - РОСТОВСКАЯ ОБЛАСТЬ   \n",
       "6707335     1333,7   0                         56000 - ПЕНЗЕНСКАЯ ОБЛАСТЬ   \n",
       "\n",
       "                                     Region_s  \n",
       "0        02-СЕВЕРО-ЗАПАДНЫЙ ФЕДЕРАЛЬНЫЙ ОКРУГ  \n",
       "1            01-ЦЕНТРАЛЬНЫЙ ФЕДЕРАЛЬНЫЙ ОКРУГ  \n",
       "2              05-УРАЛЬСКИЙ ФЕДЕРАЛЬНЫЙ ОКРУГ  \n",
       "3            01-ЦЕНТРАЛЬНЫЙ ФЕДЕРАЛЬНЫЙ ОКРУГ  \n",
       "4              06-СИБИРСКИЙ ФЕДЕРАЛЬНЫЙ ОКРУГ  \n",
       "...                                       ...  \n",
       "6707331      01-ЦЕНТРАЛЬНЫЙ ФЕДЕРАЛЬНЫЙ ОКРУГ  \n",
       "6707332  07-ДАЛЬНЕВОСТОЧНЫЙ ФЕДЕРАЛЬНЫЙ ОКРУГ  \n",
       "6707333        05-УРАЛЬСКИЙ ФЕДЕРАЛЬНЫЙ ОКРУГ  \n",
       "6707334            03-ЮЖНЫЙ ФЕДЕРАЛЬНЫЙ ОКРУГ  \n",
       "6707335      04-ПРИВОЛЖСКИЙ ФЕДЕРАЛЬНЫЙ ОКРУГ  \n",
       "\n",
       "[6707336 rows x 11 columns]"
      ]
     },
     "execution_count": 13,
     "metadata": {},
     "output_type": "execute_result"
    }
   ],
   "source": [
    "df"
   ]
  },
  {
   "cell_type": "code",
   "execution_count": null,
   "metadata": {},
   "outputs": [],
   "source": []
  }
 ],
 "metadata": {
  "kernelspec": {
   "display_name": "Python 3.10.6 ('hack_leaders')",
   "language": "python",
   "name": "python3"
  },
  "language_info": {
   "codemirror_mode": {
    "name": "ipython",
    "version": 3
   },
   "file_extension": ".py",
   "mimetype": "text/x-python",
   "name": "python",
   "nbconvert_exporter": "python",
   "pygments_lexer": "ipython3",
   "version": "3.10.6"
  },
  "orig_nbformat": 4,
  "vscode": {
   "interpreter": {
    "hash": "f1c2e2e3a2aafebbb1a437a78d46dc8876426c84a5378b94f7d3076cd0a56a82"
   }
  }
 },
 "nbformat": 4,
 "nbformat_minor": 2
}
